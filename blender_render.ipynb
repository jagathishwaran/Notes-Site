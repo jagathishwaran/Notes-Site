{
  "cells": [
    {
      "cell_type": "markdown",
      "metadata": {
        "id": "view-in-github",
        "colab_type": "text"
      },
      "source": [
        "<a href=\"https://colab.research.google.com/github/jagathishwaran/Notes-Site/blob/main/blender_render.ipynb\" target=\"_parent\"><img src=\"https://colab.research.google.com/assets/colab-badge.svg\" alt=\"Open In Colab\"/></a>"
      ]
    },
    {
      "cell_type": "markdown",
      "metadata": {
        "id": "6EYxUEsyGlkw"
      },
      "source": [
        "# Setup\n",
        "**Make sure to read the instructions carefully!**\n",
        "\n",
        "If you have other resources used in the Blender project and chose to *make all paths relative*, pack all of them into a zip archive. Alternatively, you can *pack all external file*.\n",
        "\n",
        "* `blender_version` : Version of blender used to render the scene.\n",
        "* `blend_file_path` : Path to the blend file after unpacking the zip archive. If blend file is used, this is automatically ignored.\n",
        "___\n",
        "* `upload_type` : Select the type of upload method. `gdrive_relative` pulls everything from the folder specified.\n",
        "* `drive_path` : Path to your blend/zip file relative to the root of your Google Drive if `google_drive` is selected. Must  state the file and its extension (.zip/.blend) **unless** `gdrive_relative` is selected.\n",
        "* `url_blend` : Specify the URL to the blend/zip file if `url` is selected.\n",
        "___\n",
        "* `animation` : Specify whether animation or still image is rendered. If **still image** is used, put the frame number in `start_frame`.\n",
        "* `start_frame, end_frame` : Specify the start and end frame for animation. You may put same value such as zero for both input to set the default frame in the blend file.\n",
        "___\n",
        "* `download_type` : Select the type of download method. `gdrive_direct` enables the frames to be outputted directly to Google Drive (zipping will be disabled).\n",
        "* `output_name` : Name of the output frames, **do NOT include .blend!** (## for frame number)\n",
        "* `zip_files` : Archive multiple animation frames automatically into a zip file.\n",
        "* `drive_output_path` : Path to your frames/zip file in Google Drive.\n",
        "___\n",
        "* `gpu_enabled, cpu_enabled` : Toggle GPU and CPU for rendering. CPU might give a slight boost in rendering time but may varies depend on the project.\n",
        "* `optix_enable` : Enable OptiX which may boost performance, may be incompatible depending on the version of blender, project and GPU allocated\n",
        "\n",
        "After you are done, go to Runtime > Run All (Ctrl + F9) and upload your files or have Google Drive authorised below. See the [GitHub repo](https://github.com/syn73/blender-colab) for more information."
      ]
    },
    {
      "cell_type": "code",
      "execution_count": 1,
      "metadata": {
        "id": "8dFNjYGTgNjR",
        "cellView": "form"
      },
      "outputs": [],
      "source": [
        "blender_version = '3.6.22' #@param ['2.79b', '2.83.20', '2.93.18', '3.3.21', '3.6.22', '4.2.9', '4.4.1'] {allow-input: true}\n",
        "blend_file_path = 'path/to/file.blend' #@param {type: 'string'}\n",
        "#@markdown ---\n",
        "upload_type = 'google_drive' #@param ['direct', 'google_drive', 'url', 'gdrive_relative'] {allow-input: false}\n",
        "drive_path = 'Tea_kadai.blend' #@param {type: 'string'}\n",
        "url_blend = 'https://drive.google.com/file/d/1n3BGng_rfI1qs_y5j-ZNwT-zW21EeG-q/view?usp=drive_link' #@param {type: 'string'}\n",
        "#@markdown ---\n",
        "animation = False #@param {type: 'boolean'}\n",
        "start_frame =  1#@param {type: 'integer'}\n",
        "end_frame =  1#@param {type: 'integer'}\n",
        "#@markdown ---\n",
        "download_type = 'google_drive' #@param ['direct', 'google_drive', 'gdrive_direct'] {allow-input: false}\n",
        "output_name = 'blender-##' #@param {type: 'string'}\n",
        "zip_files = False #@param {type: 'boolean'}\n",
        "drive_output_path = 'Output' #@param {type: 'string'}\n",
        "#@markdown ---\n",
        "gpu_enabled = True #@param {type:\"boolean\"}\n",
        "optix_enabled = False #@param {type:\"boolean\"}\n",
        "cpu_enabled = False #@param {type:\"boolean\"}"
      ]
    },
    {
      "cell_type": "code",
      "execution_count": 2,
      "metadata": {
        "id": "XQ0cynSzSYDd",
        "outputId": "c80e3dd3-a187-44cf-e159-f5fb17686757",
        "colab": {
          "base_uri": "https://localhost:8080/"
        }
      },
      "outputs": [
        {
          "output_type": "stream",
          "name": "stdout",
          "text": [
            "/content\n",
            "Current GPU: Tesla T4\n"
          ]
        }
      ],
      "source": [
        "%cd /content\n",
        "\n",
        "gpu = !nvidia-smi --query-gpu=gpu_name --format=csv,noheader\n",
        "print(\"Current GPU: \" + gpu[0])\n",
        "\n",
        "if gpu[0] == \"Tesla K80\" and optix_enabled:\n",
        "  print(\"OptiX disabled because of unsupported GPU\")\n",
        "  optix_enabled = False"
      ]
    },
    {
      "cell_type": "code",
      "execution_count": 3,
      "metadata": {
        "id": "pQboAtzI0Zc8",
        "outputId": "61d7540f-eea3-4a6f-da37-57fb261e1cca",
        "colab": {
          "base_uri": "https://localhost:8080/"
        }
      },
      "outputs": [
        {
          "output_type": "stream",
          "name": "stdout",
          "text": [
            "Reading package lists... Done\n",
            "Building dependency tree... Done\n",
            "Reading state information... Done\n",
            "The following packages will be REMOVED:\n",
            "  google-perftools libgoogle-perftools4 libtcmalloc-minimal4\n",
            "0 upgraded, 0 newly installed, 3 to remove and 34 not upgraded.\n",
            "After this operation, 1,817 kB disk space will be freed.\n",
            "(Reading database ... 126332 files and directories currently installed.)\n",
            "Removing google-perftools (2.9.1-0ubuntu3) ...\n",
            "Removing libgoogle-perftools4:amd64 (2.9.1-0ubuntu3) ...\n",
            "Removing libtcmalloc-minimal4:amd64 (2.9.1-0ubuntu3) ...\n",
            "Processing triggers for man-db (2.10.2-1) ...\n",
            "Processing triggers for libc-bin (2.35-0ubuntu3.8) ...\n",
            "/sbin/ldconfig.real: /usr/local/lib/libhwloc.so.15 is not a symbolic link\n",
            "\n",
            "/sbin/ldconfig.real: /usr/local/lib/libtbbmalloc_proxy.so.2 is not a symbolic link\n",
            "\n",
            "/sbin/ldconfig.real: /usr/local/lib/libumf.so.0 is not a symbolic link\n",
            "\n",
            "/sbin/ldconfig.real: /usr/local/lib/libur_adapter_opencl.so.0 is not a symbolic link\n",
            "\n",
            "/sbin/ldconfig.real: /usr/local/lib/libtbbmalloc.so.2 is not a symbolic link\n",
            "\n",
            "/sbin/ldconfig.real: /usr/local/lib/libur_adapter_level_zero.so.0 is not a symbolic link\n",
            "\n",
            "/sbin/ldconfig.real: /usr/local/lib/libtbb.so.12 is not a symbolic link\n",
            "\n",
            "/sbin/ldconfig.real: /usr/local/lib/libtbbbind.so.3 is not a symbolic link\n",
            "\n",
            "/sbin/ldconfig.real: /usr/local/lib/libtcm_debug.so.1 is not a symbolic link\n",
            "\n",
            "/sbin/ldconfig.real: /usr/local/lib/libtbbbind_2_5.so.3 is not a symbolic link\n",
            "\n",
            "/sbin/ldconfig.real: /usr/local/lib/libur_loader.so.0 is not a symbolic link\n",
            "\n",
            "/sbin/ldconfig.real: /usr/local/lib/libtbbbind_2_0.so.3 is not a symbolic link\n",
            "\n",
            "/sbin/ldconfig.real: /usr/local/lib/libtcm.so.1 is not a symbolic link\n",
            "\n",
            "Reading package lists... Done\n",
            "Building dependency tree... Done\n",
            "Reading state information... Done\n",
            "The following NEW packages will be installed:\n",
            "  libtcmalloc-minimal4\n",
            "0 upgraded, 1 newly installed, 0 to remove and 34 not upgraded.\n",
            "Need to get 98.2 kB of archives.\n",
            "After this operation, 382 kB of additional disk space will be used.\n",
            "Get:1 http://archive.ubuntu.com/ubuntu jammy/main amd64 libtcmalloc-minimal4 amd64 2.9.1-0ubuntu3 [98.2 kB]\n",
            "Fetched 98.2 kB in 0s (252 kB/s)\n",
            "Selecting previously unselected package libtcmalloc-minimal4:amd64.\n",
            "(Reading database ... 126307 files and directories currently installed.)\n",
            "Preparing to unpack .../libtcmalloc-minimal4_2.9.1-0ubuntu3_amd64.deb ...\n",
            "Unpacking libtcmalloc-minimal4:amd64 (2.9.1-0ubuntu3) ...\n",
            "Setting up libtcmalloc-minimal4:amd64 (2.9.1-0ubuntu3) ...\n",
            "Processing triggers for libc-bin (2.35-0ubuntu3.8) ...\n",
            "/sbin/ldconfig.real: /usr/local/lib/libhwloc.so.15 is not a symbolic link\n",
            "\n",
            "/sbin/ldconfig.real: /usr/local/lib/libtbbmalloc_proxy.so.2 is not a symbolic link\n",
            "\n",
            "/sbin/ldconfig.real: /usr/local/lib/libumf.so.0 is not a symbolic link\n",
            "\n",
            "/sbin/ldconfig.real: /usr/local/lib/libur_adapter_opencl.so.0 is not a symbolic link\n",
            "\n",
            "/sbin/ldconfig.real: /usr/local/lib/libtbbmalloc.so.2 is not a symbolic link\n",
            "\n",
            "/sbin/ldconfig.real: /usr/local/lib/libur_adapter_level_zero.so.0 is not a symbolic link\n",
            "\n",
            "/sbin/ldconfig.real: /usr/local/lib/libtbb.so.12 is not a symbolic link\n",
            "\n",
            "/sbin/ldconfig.real: /usr/local/lib/libtbbbind.so.3 is not a symbolic link\n",
            "\n",
            "/sbin/ldconfig.real: /usr/local/lib/libtcm_debug.so.1 is not a symbolic link\n",
            "\n",
            "/sbin/ldconfig.real: /usr/local/lib/libtbbbind_2_5.so.3 is not a symbolic link\n",
            "\n",
            "/sbin/ldconfig.real: /usr/local/lib/libur_loader.so.0 is not a symbolic link\n",
            "\n",
            "/sbin/ldconfig.real: /usr/local/lib/libtbbbind_2_0.so.3 is not a symbolic link\n",
            "\n",
            "/sbin/ldconfig.real: /usr/local/lib/libtcm.so.1 is not a symbolic link\n",
            "\n"
          ]
        }
      ],
      "source": [
        "import os\n",
        "\n",
        "os.environ[\"LD_PRELOAD\"] = \"\"\n",
        "\n",
        "!apt remove libtcmalloc-minimal4\n",
        "!apt install libtcmalloc-minimal4\n",
        "\n",
        "os.environ[\"LD_PRELOAD\"] = \"/usr/lib/x86_64-linux-gnu/libtcmalloc_minimal.so.4.5.9\""
      ]
    },
    {
      "cell_type": "code",
      "execution_count": 4,
      "metadata": {
        "id": "QRzNmiHN8Xr0",
        "outputId": "4dca74db-35c7-407c-aed2-72735d014423",
        "colab": {
          "base_uri": "https://localhost:8080/"
        }
      },
      "outputs": [
        {
          "output_type": "stream",
          "name": "stdout",
          "text": [
            "Mounted at /drive\n"
          ]
        }
      ],
      "source": [
        "import shutil\n",
        "from google.colab import files, drive\n",
        "uploaded_filename = \"\"\n",
        "\n",
        "if upload_type == 'google_drive' or upload_type == 'gdrive_relative' or download_type == 'google_drive' or download_type == 'gdrive_direct':\n",
        "    drive.mount('/drive')\n",
        "\n",
        "if upload_type == 'direct':\n",
        "    uploaded = files.upload()\n",
        "    for fn in uploaded.keys():\n",
        "        uploaded_filename = fn\n",
        "elif upload_type == 'url':\n",
        "    !wget -nc $url_blend\n",
        "    uploaded_filename = os.path.basename(url_blend)\n",
        "elif upload_type == 'google_drive':\n",
        "    shutil.copy('/drive/My Drive/' + drive_path, '.')\n",
        "    uploaded_filename = os.path.basename(drive_path)"
      ]
    },
    {
      "cell_type": "code",
      "execution_count": 5,
      "metadata": {
        "id": "KowqWtLzgSLw",
        "outputId": "6581a3cc-20c5-4948-82fa-46a1dc6fe7da",
        "colab": {
          "base_uri": "https://localhost:8080/"
        }
      },
      "outputs": [
        {
          "output_type": "stream",
          "name": "stdout",
          "text": [
            "rm: cannot remove 'render': No such file or directory\n"
          ]
        }
      ],
      "source": [
        "!rm -r render\n",
        "!mkdir render\n",
        "\n",
        "if upload_type == 'gdrive_relative':\n",
        "    if not drive_path.endswith('/'):\n",
        "        drive_path += '/'\n",
        "    !cp -r '/drive/My Drive/{drive_path}.' 'render/'\n",
        "elif uploaded_filename.lower().endswith('.zip'):\n",
        "    !unzip -o $uploaded_filename -d 'render/'\n",
        "elif uploaded_filename.lower().endswith('.blend'):\n",
        "    shutil.copy(uploaded_filename, 'render/')\n",
        "    blend_file_path = uploaded_filename\n",
        "else:\n",
        "    raise SystemExit(\"Invalid file extension, only .blend and .zip can be uploaded.\")"
      ]
    },
    {
      "cell_type": "code",
      "execution_count": 6,
      "metadata": {
        "id": "GPJ9fmoB6PWM",
        "outputId": "e49d91f6-42fc-4905-92d0-eaf8850e9ee6",
        "colab": {
          "base_uri": "https://localhost:8080/"
        }
      },
      "outputs": [
        {
          "output_type": "stream",
          "name": "stdout",
          "text": [
            "Download URL: https://ftp.nluug.nl/pub/graphics/blender/release/Blender3.6/blender-3.6.22-linux-x64.tar.xz\n",
            "Base filename: blender-3.6.22-linux-x64.tar.xz\n",
            "--2025-04-18 04:21:59--  https://ftp.nluug.nl/pub/graphics/blender/release/Blender3.6/blender-3.6.22-linux-x64.tar.xz\n",
            "Resolving ftp.nluug.nl (ftp.nluug.nl)... 145.220.21.40, 2001:67c:6ec:221:145:220:21:40\n",
            "Connecting to ftp.nluug.nl (ftp.nluug.nl)|145.220.21.40|:443... connected.\n",
            "HTTP request sent, awaiting response... 200 OK\n",
            "Length: 272633304 (260M) [application/octet-stream]\n",
            "Saving to: ‘blender-3.6.22-linux-x64.tar.xz’\n",
            "\n",
            "blender-3.6.22-linu 100%[===================>] 260.00M  25.5MB/s    in 11s     \n",
            "\n",
            "2025-04-18 04:22:11 (23.5 MB/s) - ‘blender-3.6.22-linux-x64.tar.xz’ saved [272633304/272633304]\n",
            "\n"
          ]
        }
      ],
      "source": [
        "import requests\n",
        "# To add your own new version, go to https://ftp.nluug.nl/pub/graphics/blender/release\n",
        "# and copy the URL of the desired version linux-x64 tar archive\n",
        "# Then, edit or add the version below and also at the version selection at the top\n",
        "blender_url_dict = {'2.79b'   : \"https://ftp.nluug.nl/pub/graphics/blender/release/Blender2.79/blender-2.79b-linux-glibc219-x86_64.tar.bz2\",\n",
        "                    '2.83.20' : \"https://ftp.nluug.nl/pub/graphics/blender/release/Blender2.83/blender-2.83.20-linux-x64.tar.xz\",\n",
        "                    '2.93.18' : \"https://ftp.nluug.nl/pub/graphics/blender/release/Blender2.93/blender-2.93.18-linux-x64.tar.xz\",\n",
        "                    '3.3.21'  : \"https://ftp.nluug.nl/pub/graphics/blender/release/Blender3.3/blender-3.3.21-linux-x64.tar.xz\",\n",
        "                    '3.6.22'  : \"https://ftp.nluug.nl/pub/graphics/blender/release/Blender3.6/blender-3.6.22-linux-x64.tar.xz\",\n",
        "                    '4.2.9'   : \"https://ftp.nluug.nl/pub/graphics/blender/release/Blender4.2/blender-4.2.9-linux-x64.tar.xz\",\n",
        "                    '4.4.1'   : \"https://ftp.nluug.nl/pub/graphics/blender/release/Blender4.4/blender-4.4.1-linux-x64.tar.xz\"}\n",
        "\n",
        "if blender_version in blender_url_dict:\n",
        "    blender_url = blender_url_dict[blender_version]\n",
        "else:\n",
        "    major_minor = \".\".join(blender_version.split('.')[:2])\n",
        "    blender_url = f\"https://ftp.nluug.nl/pub/graphics/blender/release/Blender{major_minor}/blender-{blender_version}-linux-x64.tar.xz\"\n",
        "\n",
        "try:\n",
        "    response = requests.head(blender_url, allow_redirects=True, timeout=10)\n",
        "    if response.status_code != 200:\n",
        "        print(f\"Download failed for version '{blender_version}'.\")\n",
        "        print(\"Please check if the version is correct or define the download URL manually.\")\n",
        "    else:\n",
        "        base_url = os.path.basename(blender_url)\n",
        "        print(f\"Download URL: {blender_url}\")\n",
        "        print(f\"Base filename: {base_url}\")\n",
        "except Exception as e:\n",
        "    print(f\"Error checking URL: {e}\")\n",
        "    print(\"Please check if the version is correct or define the download URL manually.\")\n",
        "\n",
        "!mkdir $blender_version\n",
        "!wget -nc $blender_url\n",
        "!tar -xkf $base_url -C ./$blender_version --strip-components=1"
      ]
    },
    {
      "cell_type": "code",
      "execution_count": 7,
      "metadata": {
        "id": "6elYiQrvkUAe"
      },
      "outputs": [],
      "source": [
        "# Enable GPU rendering (or add custom properties here)\n",
        "data = \"import re\\n\"+\\\n",
        "    \"import bpy\\n\"+\\\n",
        "    \"scene = bpy.context.scene\\n\"+\\\n",
        "    \"scene.cycles.device = 'GPU'\\n\"+\\\n",
        "    \"prefs = bpy.context.preferences\\n\"+\\\n",
        "    \"prefs.addons['cycles'].preferences.get_devices()\\n\"+\\\n",
        "    \"cprefs = prefs.addons['cycles'].preferences\\n\"+\\\n",
        "    \"print(cprefs)\\n\"+\\\n",
        "    \"for compute_device_type in ('CUDA', 'OPENCL', 'NONE'):\\n\"+\\\n",
        "    \"    try:\\n\"+\\\n",
        "    \"        cprefs.compute_device_type = compute_device_type\\n\"+\\\n",
        "    \"        print('Device found:',compute_device_type)\\n\"+\\\n",
        "    \"        break\\n\"+\\\n",
        "    \"    except TypeError:\\n\"+\\\n",
        "    \"        pass\\n\"+\\\n",
        "    \"for device in cprefs.devices:\\n\"+\\\n",
        "    \"    if not re.match('intel', device.name, re.I):\\n\"+\\\n",
        "    \"        print('Activating',device)\\n\"+\\\n",
        "    \"        device.use = \"+str(gpu_enabled)+\"\\n\"+\\\n",
        "    \"    else:\\n\"+\\\n",
        "    \"        device.use = \"+str(cpu_enabled)+\"\\n\"\n",
        "with open('setgpu.py', 'w') as f:\n",
        "    f.write(data)\n",
        "\n",
        "renderer = \"CUDA\"\n",
        "if optix_enabled:\n",
        "    print(\"Note: You're currently using OptiX renderer. If an error occurred, the current GPU (example: Tesla K80) is not supported and you need to switch back to Cycles.\")\n",
        "    renderer = \"OPTIX\""
      ]
    },
    {
      "cell_type": "code",
      "execution_count": 8,
      "metadata": {
        "id": "Fpk2w3yM8XqQ",
        "outputId": "cbd3361a-ab56-41af-aa47-612536624032",
        "colab": {
          "base_uri": "https://localhost:8080/"
        }
      },
      "outputs": [
        {
          "output_type": "stream",
          "name": "stdout",
          "text": [
            "/content\n",
            "rm: cannot remove 'output': No such file or directory\n",
            "/content/3.6.22\n",
            "Blender 3.6.22 (hash 30b431ea75f7 built 2025-04-15 01:35:15)\n",
            "Read blend: \"/content/render/Tea_kadai.blend\"\n",
            "Error: Python: OSError: Python file \"/content/3.6.22/setgpu.py\" could not be opened: No such file or directory\n",
            "Fra:1 Mem:15.74M (Peak 16.31M) | Time:00:00.32 | Mem:0.00M, Peak:0.00M | Scene, ViewLayer | Synchronizing object | Tea_Glass\n",
            "Fra:1 Mem:16.41M (Peak 16.41M) | Time:00:00.32 | Mem:0.00M, Peak:0.00M | Scene, ViewLayer | Synchronizing object | Plane.008\n",
            "Fra:1 Mem:16.56M (Peak 16.56M) | Time:00:00.32 | Mem:0.00M, Peak:0.00M | Scene, ViewLayer | Synchronizing object | Cylinder.008\n",
            "Fra:1 Mem:16.58M (Peak 16.58M) | Time:00:00.32 | Mem:0.00M, Peak:0.00M | Scene, ViewLayer | Synchronizing object | Plane.007\n",
            "Fra:1 Mem:16.64M (Peak 16.64M) | Time:00:00.32 | Mem:0.00M, Peak:0.00M | Scene, ViewLayer | Synchronizing object | Plane.006\n",
            "Fra:1 Mem:16.70M (Peak 16.70M) | Time:00:00.32 | Mem:0.00M, Peak:0.00M | Scene, ViewLayer | Synchronizing object | Plane.005\n",
            "Fra:1 Mem:16.91M (Peak 16.91M) | Time:00:00.32 | Mem:0.00M, Peak:0.00M | Scene, ViewLayer | Synchronizing object | Cube.010\n",
            "Fra:1 Mem:16.83M (Peak 16.91M) | Time:00:00.32 | Mem:0.00M, Peak:0.00M | Scene, ViewLayer | Synchronizing object | Tea\n",
            "Fra:1 Mem:17.22M (Peak 17.22M) | Time:00:00.32 | Mem:0.00M, Peak:0.00M | Scene, ViewLayer | Synchronizing object | Cylinder.007\n",
            "Fra:1 Mem:17.22M (Peak 17.22M) | Time:00:00.32 | Mem:0.00M, Peak:0.00M | Scene, ViewLayer | Synchronizing object | Cube\n",
            "Fra:1 Mem:17.24M (Peak 17.24M) | Time:00:00.32 | Mem:0.00M, Peak:0.00M | Scene, ViewLayer | Synchronizing object | Cube.001\n",
            "Fra:1 Mem:17.24M (Peak 17.24M) | Time:00:00.32 | Mem:0.00M, Peak:0.00M | Scene, ViewLayer | Synchronizing object | Plane.004\n",
            "Fra:1 Mem:17.26M (Peak 17.26M) | Time:00:00.32 | Mem:0.00M, Peak:0.00M | Scene, ViewLayer | Synchronizing object | Cube.002\n",
            "Fra:1 Mem:17.31M (Peak 17.31M) | Time:00:00.32 | Mem:0.00M, Peak:0.00M | Scene, ViewLayer | Synchronizing object | Cube.003\n",
            "Fra:1 Mem:17.32M (Peak 17.32M) | Time:00:00.32 | Mem:0.00M, Peak:0.00M | Scene, ViewLayer | Synchronizing object | Plane\n",
            "Fra:1 Mem:17.32M (Peak 17.32M) | Time:00:00.32 | Mem:0.00M, Peak:0.00M | Scene, ViewLayer | Synchronizing object | Cube.004\n",
            "Fra:1 Mem:17.33M (Peak 17.33M) | Time:00:00.32 | Mem:0.00M, Peak:0.00M | Scene, ViewLayer | Synchronizing object | Plane.003\n",
            "Fra:1 Mem:17.33M (Peak 17.33M) | Time:00:00.32 | Mem:0.00M, Peak:0.00M | Scene, ViewLayer | Synchronizing object | Cylinder.002\n",
            "Fra:1 Mem:17.38M (Peak 17.39M) | Time:00:00.32 | Mem:0.00M, Peak:0.00M | Scene, ViewLayer | Synchronizing object | Cylinder.003\n",
            "Fra:1 Mem:17.40M (Peak 17.40M) | Time:00:00.32 | Mem:0.00M, Peak:0.00M | Scene, ViewLayer | Synchronizing object | Cylinder.001\n",
            "Fra:1 Mem:17.41M (Peak 17.41M) | Time:00:00.32 | Mem:0.00M, Peak:0.00M | Scene, ViewLayer | Synchronizing object | Cylinder.004\n",
            "Fra:1 Mem:17.42M (Peak 17.42M) | Time:00:00.32 | Mem:0.00M, Peak:0.00M | Scene, ViewLayer | Synchronizing object | Cube.009\n",
            "Fra:1 Mem:17.42M (Peak 17.42M) | Time:00:00.32 | Mem:0.00M, Peak:0.00M | Scene, ViewLayer | Synchronizing object | Cube.005\n",
            "Fra:1 Mem:17.43M (Peak 17.43M) | Time:00:00.32 | Mem:0.00M, Peak:0.00M | Scene, ViewLayer | Synchronizing object | Cube.008\n",
            "Fra:1 Mem:17.44M (Peak 17.44M) | Time:00:00.32 | Mem:0.00M, Peak:0.00M | Scene, ViewLayer | Synchronizing object | Cylinder.005\n",
            "Fra:1 Mem:17.45M (Peak 17.45M) | Time:00:00.32 | Mem:0.00M, Peak:0.00M | Scene, ViewLayer | Synchronizing object | Cube.007\n",
            "Fra:1 Mem:17.46M (Peak 17.46M) | Time:00:00.32 | Mem:0.00M, Peak:0.00M | Scene, ViewLayer | Synchronizing object | Cube.006\n",
            "Fra:1 Mem:17.45M (Peak 17.46M) | Time:00:00.32 | Mem:0.00M, Peak:0.00M | Scene, ViewLayer | Synchronizing object | Cylinder.006\n",
            "Fra:1 Mem:17.46M (Peak 17.46M) | Time:00:00.32 | Mem:0.00M, Peak:0.00M | Scene, ViewLayer | Initializing\n",
            "Fra:1 Mem:13.45M (Peak 17.46M) | Time:00:00.33 | Mem:0.00M, Peak:0.00M | Scene, ViewLayer | Waiting for render to start\n",
            "Fra:1 Mem:13.45M (Peak 17.46M) | Time:00:00.33 | Mem:0.00M, Peak:0.00M | Scene, ViewLayer | Loading render kernels (may take a few minutes the first time)\n",
            "Fra:1 Mem:13.45M (Peak 32.47M) | Time:00:00.39 | Mem:0.00M, Peak:0.00M | Scene, ViewLayer | Updating Scene\n",
            "Fra:1 Mem:13.45M (Peak 32.47M) | Time:00:00.39 | Mem:0.00M, Peak:0.00M | Scene, ViewLayer | Updating Shaders\n",
            "Fra:1 Mem:13.46M (Peak 32.47M) | Time:00:00.39 | Mem:0.01M, Peak:0.01M | Scene, ViewLayer | Updating Procedurals\n",
            "Fra:1 Mem:13.46M (Peak 32.47M) | Time:00:00.39 | Mem:0.01M, Peak:0.01M | Scene, ViewLayer | Updating Background\n",
            "Fra:1 Mem:13.46M (Peak 32.47M) | Time:00:00.39 | Mem:0.01M, Peak:0.01M | Scene, ViewLayer | Updating Camera\n",
            "Fra:1 Mem:13.46M (Peak 32.47M) | Time:00:00.39 | Mem:0.01M, Peak:0.01M | Scene, ViewLayer | Updating Meshes Flags\n",
            "Fra:1 Mem:13.46M (Peak 32.47M) | Time:00:00.39 | Mem:0.01M, Peak:0.01M | Scene, ViewLayer | Updating Objects\n",
            "Fra:1 Mem:13.46M (Peak 32.47M) | Time:00:00.39 | Mem:0.01M, Peak:0.01M | Scene, ViewLayer | Updating Objects | Copying Transformations to device\n",
            "Fra:1 Mem:13.47M (Peak 32.47M) | Time:00:00.39 | Mem:0.01M, Peak:0.01M | Scene, ViewLayer | Updating Objects | Applying Static Transformations\n",
            "Fra:1 Mem:13.47M (Peak 32.47M) | Time:00:00.39 | Mem:0.01M, Peak:0.01M | Scene, ViewLayer | Updating Particle Systems\n",
            "Fra:1 Mem:13.47M (Peak 32.47M) | Time:00:00.39 | Mem:0.01M, Peak:0.01M | Scene, ViewLayer | Updating Particle Systems | Copying Particles to device\n",
            "Fra:1 Mem:13.47M (Peak 32.47M) | Time:00:00.39 | Mem:0.01M, Peak:0.01M | Scene, ViewLayer | Updating Meshes\n",
            "Fra:1 Mem:14.02M (Peak 32.47M) | Time:00:00.39 | Mem:0.01M, Peak:0.01M | Scene, ViewLayer | Updating Mesh | Computing attributes\n",
            "Fra:1 Mem:14.09M (Peak 32.47M) | Time:00:00.39 | Mem:0.02M, Peak:0.02M | Scene, ViewLayer | Updating Mesh | Copying Attributes to device\n",
            "Fra:1 Mem:14.08M (Peak 32.47M) | Time:00:00.39 | Mem:0.07M, Peak:0.07M | Scene, ViewLayer | Updating Geometry BVH Cylinder.002 1/1 | Building BVH\n",
            "Fra:1 Mem:15.16M (Peak 32.47M) | Time:00:00.41 | Mem:0.07M, Peak:0.07M | Scene, ViewLayer | Updating Geometry BVH Cylinder.002 1/1 | Packing BVH triangles and strands\n",
            "Fra:1 Mem:15.24M (Peak 32.47M) | Time:00:00.41 | Mem:0.07M, Peak:0.07M | Scene, ViewLayer | Updating Geometry BVH Cylinder.002 1/1 | Packing BVH nodes\n",
            "Fra:1 Mem:14.64M (Peak 32.47M) | Time:00:00.41 | Mem:0.07M, Peak:0.07M | Scene, ViewLayer | Updating Scene BVH | Building\n",
            "Fra:1 Mem:14.64M (Peak 32.47M) | Time:00:00.41 | Mem:0.07M, Peak:0.07M | Scene, ViewLayer | Updating Scene BVH | Building BVH\n",
            "Fra:1 Mem:15.65M (Peak 32.47M) | Time:00:00.42 | Mem:0.07M, Peak:0.07M | Scene, ViewLayer | Updating Scene BVH | Packing BVH triangles and strands\n",
            "Fra:1 Mem:15.71M (Peak 32.47M) | Time:00:00.42 | Mem:0.07M, Peak:0.07M | Scene, ViewLayer | Updating Scene BVH | Packing BVH nodes\n",
            "Fra:1 Mem:16.79M (Peak 32.47M) | Time:00:00.42 | Mem:0.07M, Peak:0.07M | Scene, ViewLayer | Updating Scene BVH | Copying BVH to device\n",
            "Fra:1 Mem:16.79M (Peak 32.47M) | Time:00:00.42 | Mem:1.15M, Peak:1.15M | Scene, ViewLayer | Updating Mesh | Computing normals\n",
            "Fra:1 Mem:18.04M (Peak 32.47M) | Time:00:00.42 | Mem:1.15M, Peak:1.15M | Scene, ViewLayer | Updating Mesh | Copying Mesh to device\n",
            "Fra:1 Mem:18.04M (Peak 32.47M) | Time:00:00.42 | Mem:2.40M, Peak:2.40M | Scene, ViewLayer | Updating Objects Flags\n",
            "Fra:1 Mem:18.04M (Peak 32.47M) | Time:00:00.42 | Mem:2.40M, Peak:2.40M | Scene, ViewLayer | Updating Primitive Offsets\n",
            "Fra:1 Mem:18.04M (Peak 32.47M) | Time:00:00.42 | Mem:2.40M, Peak:2.40M | Scene, ViewLayer | Updating Images\n",
            "Fra:1 Mem:18.04M (Peak 32.47M) | Time:00:00.42 | Mem:2.40M, Peak:2.40M | Scene, ViewLayer | Updating Images | Loading \n",
            "Fra:1 Mem:18.06M (Peak 32.47M) | Time:00:00.42 | Mem:2.40M, Peak:2.40M | Scene, ViewLayer | Updating Camera Volume\n",
            "Fra:1 Mem:18.06M (Peak 32.47M) | Time:00:00.42 | Mem:2.40M, Peak:2.40M | Scene, ViewLayer | Updating Lookup Tables\n",
            "Fra:1 Mem:18.06M (Peak 32.47M) | Time:00:00.42 | Mem:2.40M, Peak:2.40M | Scene, ViewLayer | Updating Lights\n",
            "Fra:1 Mem:18.06M (Peak 32.47M) | Time:00:00.42 | Mem:2.40M, Peak:2.40M | Scene, ViewLayer | Updating Lights | Computing distribution\n",
            "Fra:1 Mem:18.06M (Peak 32.47M) | Time:00:00.42 | Mem:2.40M, Peak:2.40M | Scene, ViewLayer | Updating Lights | Computing tree\n",
            "Fra:1 Mem:18.14M (Peak 32.47M) | Time:00:00.43 | Mem:2.48M, Peak:2.48M | Scene, ViewLayer | Updating Integrator\n",
            "Fra:1 Mem:22.14M (Peak 32.47M) | Time:00:00.43 | Mem:6.48M, Peak:6.48M | Scene, ViewLayer | Updating Film\n",
            "Fra:1 Mem:22.14M (Peak 32.47M) | Time:00:00.43 | Mem:6.48M, Peak:6.48M | Scene, ViewLayer | Updating Lookup Tables\n",
            "Fra:1 Mem:22.14M (Peak 32.47M) | Time:00:00.43 | Mem:6.48M, Peak:6.48M | Scene, ViewLayer | Updating Baking\n",
            "Fra:1 Mem:22.14M (Peak 32.47M) | Time:00:00.43 | Mem:6.48M, Peak:6.48M | Scene, ViewLayer | Updating Device | Writing constant memory\n",
            "Fra:1 Mem:22.14M (Peak 32.47M) | Time:00:00.43 | Mem:6.48M, Peak:6.48M | Scene, ViewLayer | Loading denoising kernels (may take a few minutes the first time)\n",
            "Fra:1 Mem:26.14M (Peak 32.47M) | Time:00:00.44 | Mem:390.49M, Peak:390.49M | Scene, ViewLayer | Sample 0/1024\n",
            "Fra:1 Mem:176.44M (Peak 176.44M) | Time:00:00.63 | Remaining:03:19.87 | Mem:540.79M, Peak:540.79M | Scene, ViewLayer | Sample 1/1024\n",
            "Fra:1 Mem:176.45M (Peak 176.45M) | Time:00:08.66 | Remaining:01:36.96 | Mem:540.80M, Peak:540.80M | Scene, ViewLayer | Sample 80/1024\n",
            "Fra:1 Mem:176.45M (Peak 176.45M) | Time:00:09.24 | Remaining:01:25.06 | Mem:540.80M, Peak:540.80M | Scene, ViewLayer | Sample 96/1024\n",
            "Fra:1 Mem:176.45M (Peak 176.45M) | Time:00:09.76 | Remaining:01:15.90 | Mem:540.80M, Peak:540.80M | Scene, ViewLayer | Sample 112/1024\n",
            "Fra:1 Mem:176.45M (Peak 176.45M) | Time:00:10.19 | Remaining:01:08.28 | Mem:540.80M, Peak:540.80M | Scene, ViewLayer | Sample 128/1024\n",
            "Fra:1 Mem:176.45M (Peak 176.45M) | Time:00:10.56 | Remaining:01:01.82 | Mem:540.80M, Peak:540.80M | Scene, ViewLayer | Sample 144/1024\n",
            "Fra:1 Mem:176.45M (Peak 176.45M) | Time:00:10.86 | Remaining:00:56.29 | Mem:540.80M, Peak:540.80M | Scene, ViewLayer | Sample 160/1024\n",
            "Fra:1 Mem:176.45M (Peak 176.45M) | Time:00:11.13 | Remaining:00:51.49 | Mem:540.80M, Peak:540.80M | Scene, ViewLayer | Sample 176/1024\n",
            "Fra:1 Mem:176.45M (Peak 176.45M) | Time:00:11.35 | Remaining:00:47.29 | Mem:540.80M, Peak:540.80M | Scene, ViewLayer | Sample 192/1024\n",
            "Fra:1 Mem:176.45M (Peak 176.45M) | Time:00:11.54 | Remaining:00:43.56 | Mem:540.80M, Peak:540.80M | Scene, ViewLayer | Sample 208/1024\n",
            "Fra:1 Mem:176.45M (Peak 176.45M) | Time:00:11.72 | Remaining:00:40.30 | Mem:540.80M, Peak:540.80M | Scene, ViewLayer | Sample 224/1024\n",
            "Fra:1 Mem:176.45M (Peak 176.45M) | Time:00:11.87 | Remaining:00:37.35 | Mem:540.80M, Peak:540.80M | Scene, ViewLayer | Sample 240/1024\n",
            "Fra:1 Mem:176.45M (Peak 176.45M) | Time:00:12.00 | Remaining:00:34.70 | Mem:540.80M, Peak:540.80M | Scene, ViewLayer | Sample 256/1024\n",
            "Fra:1 Mem:176.45M (Peak 176.45M) | Time:00:12.13 | Remaining:00:32.31 | Mem:540.80M, Peak:540.80M | Scene, ViewLayer | Sample 272/1024\n",
            "Fra:1 Mem:176.45M (Peak 176.45M) | Time:00:12.23 | Remaining:00:30.14 | Mem:540.80M, Peak:540.80M | Scene, ViewLayer | Sample 288/1024\n",
            "Fra:1 Mem:176.45M (Peak 176.45M) | Time:00:12.34 | Remaining:00:28.17 | Mem:540.80M, Peak:540.80M | Scene, ViewLayer | Sample 304/1024\n",
            "Fra:1 Mem:176.45M (Peak 176.45M) | Time:00:12.43 | Remaining:00:26.38 | Mem:540.80M, Peak:540.80M | Scene, ViewLayer | Sample 320/1024\n",
            "Fra:1 Mem:176.45M (Peak 176.45M) | Time:00:12.52 | Remaining:00:24.74 | Mem:540.80M, Peak:540.80M | Scene, ViewLayer | Sample 336/1024\n",
            "Fra:1 Mem:176.45M (Peak 176.45M) | Time:00:12.61 | Remaining:00:23.23 | Mem:540.80M, Peak:540.80M | Scene, ViewLayer | Sample 352/1024\n",
            "Fra:1 Mem:176.45M (Peak 176.45M) | Time:00:12.69 | Remaining:00:21.83 | Mem:540.80M, Peak:540.80M | Scene, ViewLayer | Sample 368/1024\n",
            "Fra:1 Mem:176.45M (Peak 176.45M) | Time:00:12.76 | Remaining:00:20.54 | Mem:540.80M, Peak:540.80M | Scene, ViewLayer | Sample 384/1024\n",
            "Fra:1 Mem:176.45M (Peak 176.45M) | Time:00:12.84 | Remaining:00:19.35 | Mem:540.80M, Peak:540.80M | Scene, ViewLayer | Sample 400/1024\n",
            "Fra:1 Mem:176.45M (Peak 176.45M) | Time:00:12.92 | Remaining:00:18.24 | Mem:540.80M, Peak:540.80M | Scene, ViewLayer | Sample 416/1024\n",
            "Fra:1 Mem:176.45M (Peak 176.45M) | Time:00:12.99 | Remaining:00:17.19 | Mem:540.80M, Peak:540.80M | Scene, ViewLayer | Sample 432/1024\n",
            "Fra:1 Mem:176.45M (Peak 176.45M) | Time:00:13.05 | Remaining:00:16.21 | Mem:540.80M, Peak:540.80M | Scene, ViewLayer | Sample 448/1024\n",
            "Fra:1 Mem:176.45M (Peak 176.45M) | Time:00:13.11 | Remaining:00:15.29 | Mem:540.80M, Peak:540.80M | Scene, ViewLayer | Sample 464/1024\n",
            "Fra:1 Mem:176.45M (Peak 176.45M) | Time:00:13.17 | Remaining:00:14.42 | Mem:540.80M, Peak:540.80M | Scene, ViewLayer | Sample 480/1024\n",
            "Fra:1 Mem:176.45M (Peak 176.45M) | Time:00:13.22 | Remaining:00:13.60 | Mem:540.80M, Peak:540.80M | Scene, ViewLayer | Sample 496/1024\n",
            "Fra:1 Mem:176.45M (Peak 176.45M) | Time:00:13.28 | Remaining:00:12.83 | Mem:540.80M, Peak:540.80M | Scene, ViewLayer | Sample 512/1024\n",
            "Fra:1 Mem:176.45M (Peak 176.45M) | Time:00:13.33 | Remaining:00:12.11 | Mem:540.80M, Peak:540.80M | Scene, ViewLayer | Sample 528/1024\n",
            "Fra:1 Mem:176.45M (Peak 176.45M) | Time:00:13.38 | Remaining:00:11.42 | Mem:540.80M, Peak:540.80M | Scene, ViewLayer | Sample 544/1024\n",
            "Fra:1 Mem:176.45M (Peak 176.45M) | Time:00:13.43 | Remaining:00:10.76 | Mem:540.80M, Peak:540.80M | Scene, ViewLayer | Sample 560/1024\n",
            "Fra:1 Mem:176.45M (Peak 176.45M) | Time:00:13.47 | Remaining:00:10.13 | Mem:540.80M, Peak:540.80M | Scene, ViewLayer | Sample 576/1024\n",
            "Fra:1 Mem:176.45M (Peak 176.45M) | Time:00:13.52 | Remaining:00:09.54 | Mem:540.80M, Peak:540.80M | Scene, ViewLayer | Sample 592/1024\n",
            "Fra:1 Mem:176.45M (Peak 176.45M) | Time:00:13.56 | Remaining:00:08.97 | Mem:540.80M, Peak:540.80M | Scene, ViewLayer | Sample 608/1024\n",
            "Fra:1 Mem:176.45M (Peak 176.45M) | Time:00:13.60 | Remaining:00:08.43 | Mem:540.80M, Peak:540.80M | Scene, ViewLayer | Sample 624/1024\n",
            "Fra:1 Mem:176.45M (Peak 176.45M) | Time:00:13.63 | Remaining:00:07.91 | Mem:540.80M, Peak:540.80M | Scene, ViewLayer | Sample 640/1024\n",
            "Fra:1 Mem:176.45M (Peak 176.45M) | Time:00:13.67 | Remaining:00:07.42 | Mem:540.80M, Peak:540.80M | Scene, ViewLayer | Sample 656/1024\n",
            "Fra:1 Mem:176.45M (Peak 176.45M) | Time:00:13.71 | Remaining:00:06.95 | Mem:540.80M, Peak:540.80M | Scene, ViewLayer | Sample 672/1024\n",
            "Fra:1 Mem:176.45M (Peak 176.45M) | Time:00:13.75 | Remaining:00:06.50 | Mem:540.80M, Peak:540.80M | Scene, ViewLayer | Sample 688/1024\n",
            "Fra:1 Mem:176.45M (Peak 176.45M) | Time:00:13.79 | Remaining:00:06.06 | Mem:540.80M, Peak:540.80M | Scene, ViewLayer | Sample 704/1024\n",
            "Fra:1 Mem:176.45M (Peak 176.45M) | Time:00:13.82 | Remaining:00:05.65 | Mem:540.80M, Peak:540.80M | Scene, ViewLayer | Sample 720/1024\n",
            "Fra:1 Mem:176.45M (Peak 176.45M) | Time:00:13.85 | Remaining:00:05.24 | Mem:540.80M, Peak:540.80M | Scene, ViewLayer | Sample 736/1024\n",
            "Fra:1 Mem:176.45M (Peak 176.45M) | Time:00:13.89 | Remaining:00:04.86 | Mem:540.80M, Peak:540.80M | Scene, ViewLayer | Sample 752/1024\n",
            "Fra:1 Mem:176.45M (Peak 176.45M) | Time:00:13.92 | Remaining:00:04.49 | Mem:540.80M, Peak:540.80M | Scene, ViewLayer | Sample 768/1024\n",
            "Fra:1 Mem:176.45M (Peak 176.45M) | Time:00:13.95 | Remaining:00:04.13 | Mem:540.80M, Peak:540.80M | Scene, ViewLayer | Sample 784/1024\n",
            "Fra:1 Mem:176.45M (Peak 176.45M) | Time:00:13.98 | Remaining:00:03.79 | Mem:540.80M, Peak:540.80M | Scene, ViewLayer | Sample 800/1024\n",
            "Fra:1 Mem:176.45M (Peak 176.45M) | Time:00:14.01 | Remaining:00:03.45 | Mem:540.80M, Peak:540.80M | Scene, ViewLayer | Sample 816/1024\n",
            "Fra:1 Mem:176.45M (Peak 176.45M) | Time:00:14.04 | Remaining:00:03.13 | Mem:540.80M, Peak:540.80M | Scene, ViewLayer | Sample 832/1024\n",
            "Fra:1 Mem:176.45M (Peak 176.45M) | Time:00:14.06 | Remaining:00:02.82 | Mem:540.80M, Peak:540.80M | Scene, ViewLayer | Sample 848/1024\n",
            "Fra:1 Mem:176.45M (Peak 176.45M) | Time:00:14.08 | Remaining:00:02.52 | Mem:540.80M, Peak:540.80M | Scene, ViewLayer | Sample 864/1024\n",
            "Fra:1 Mem:176.45M (Peak 176.45M) | Time:00:14.11 | Remaining:00:02.23 | Mem:540.80M, Peak:540.80M | Scene, ViewLayer | Sample 880/1024\n",
            "Fra:1 Mem:176.45M (Peak 176.45M) | Time:00:14.13 | Remaining:00:01.95 | Mem:540.80M, Peak:540.80M | Scene, ViewLayer | Sample 896/1024\n",
            "Fra:1 Mem:176.45M (Peak 176.45M) | Time:00:14.16 | Remaining:00:01.68 | Mem:540.80M, Peak:540.80M | Scene, ViewLayer | Sample 912/1024\n",
            "Fra:1 Mem:176.45M (Peak 176.45M) | Time:00:14.18 | Remaining:00:01.42 | Mem:540.80M, Peak:540.80M | Scene, ViewLayer | Sample 928/1024\n",
            "Fra:1 Mem:176.45M (Peak 176.45M) | Time:00:14.21 | Remaining:00:01.16 | Mem:540.80M, Peak:540.80M | Scene, ViewLayer | Sample 944/1024\n",
            "Fra:1 Mem:176.45M (Peak 176.45M) | Time:00:14.23 | Remaining:00:00.91 | Mem:540.80M, Peak:540.80M | Scene, ViewLayer | Sample 960/1024\n",
            "Fra:1 Mem:176.45M (Peak 176.45M) | Time:00:14.25 | Remaining:00:00.67 | Mem:540.80M, Peak:540.80M | Scene, ViewLayer | Sample 976/1024\n",
            "Fra:1 Mem:176.45M (Peak 176.45M) | Time:00:14.28 | Remaining:00:00.44 | Mem:540.80M, Peak:540.80M | Scene, ViewLayer | Sample 992/1024\n",
            "Fra:1 Mem:176.45M (Peak 176.45M) | Time:00:14.30 | Remaining:00:00.22 | Mem:540.80M, Peak:540.80M | Scene, ViewLayer | Sample 1008/1024\n",
            "Fra:1 Mem:239.73M (Peak 334.65M) | Time:00:32.44 | Mem:540.80M, Peak:540.80M | Scene, ViewLayer | Sample 1024/1024\n",
            "Fra:1 Mem:239.73M (Peak 334.65M) | Time:00:32.44 | Mem:540.80M, Peak:540.80M | Scene, ViewLayer | Finished\n",
            "Saved: '/content/output/blender-01.jpg'\n",
            " Time: 00:32.94 (Saving: 00:00.42)\n",
            "\n",
            "\n",
            "Blender quit\n"
          ]
        }
      ],
      "source": [
        "%cd /content\n",
        "\n",
        "!rm -r output\n",
        "!mkdir output\n",
        "\n",
        "if not drive_output_path.endswith('/'):\n",
        "    drive_output_path += '/'\n",
        "\n",
        "if download_type != 'gdrive_direct':\n",
        "    output_path = '/content/output/' + output_name\n",
        "else:\n",
        "    output_path = '/drive/My Drive/' + drive_output_path + output_name\n",
        "\n",
        "%cd /content/$blender_version\n",
        "\n",
        "if animation:\n",
        "    if start_frame == end_frame:\n",
        "        !./$blender_version/blender -b '/content/render/{blend_file_path}' -P setgpu.py -E CYCLES -o '{output_path}' -noaudio -a -- --cycles-device \"{renderer}\"\n",
        "    else:\n",
        "        !./$blender_version/blender -b '/content/render/{blend_file_path}' -P setgpu.py -E CYCLES -o '{output_path}' -noaudio -s $start_frame -e $end_frame -a -- --cycles-device \"{renderer}\"\n",
        "else:\n",
        "    !./$blender_version/blender -b '/content/render/{blend_file_path}' -P setgpu.py -E CYCLES -o '{output_path}' -noaudio -f $start_frame -- --cycles-device \"{renderer}\""
      ]
    },
    {
      "cell_type": "code",
      "execution_count": 9,
      "metadata": {
        "id": "IjN_CFwEIB6f",
        "outputId": "25c6dd1e-a055-4748-d583-1d8710c61e2c",
        "colab": {
          "base_uri": "https://localhost:8080/"
        }
      },
      "outputs": [
        {
          "output_type": "stream",
          "name": "stdout",
          "text": [
            "/content\n"
          ]
        }
      ],
      "source": [
        "%cd /content\n",
        "\n",
        "path, dirs, files_folder = next(os.walk(\"output\"))\n",
        "output_folder_name = output_name.replace('#', '') + 'render'\n",
        "\n",
        "if download_type == 'gdrive_direct':\n",
        "    pass\n",
        "elif len(files_folder) == 1:\n",
        "    render_img = 'output/' + files_folder[0]\n",
        "    if download_type == 'direct':\n",
        "        files.download('output/' + files_folder[0])\n",
        "    else:\n",
        "        shutil.copy('/content/' + render_img, '/drive/My Drive/' + drive_output_path)\n",
        "elif len(files_folder) > 1:\n",
        "    if zip_files:\n",
        "        shutil.make_archive(output_folder_name, 'zip', 'output')\n",
        "    if download_type == 'direct':\n",
        "        files.download(output_folder_name + '.zip')\n",
        "    else:\n",
        "        shutil.copy('/content/' + output_folder_name + \".zip\", '/drive/My Drive/' + drive_output_path)\n",
        "elif download_type == 'direct':\n",
        "    for f in files_folder:\n",
        "        files.download('output/{}'.format(f))\n",
        "    # Drive, no zip\n",
        "    else:\n",
        "        for f in files_folder:\n",
        "          shutil.copy(\"/content/output/\" + f, '/drive/My Drive/' + drive_output_path + f)\n",
        "else:\n",
        "    raise SystemExit(\"No frames are rendered.\")"
      ]
    },
    {
      "cell_type": "markdown",
      "metadata": {
        "id": "IeNhVz4Uds_7"
      },
      "source": [
        "## Disclaimer\n",
        "Google Colab is targeted to researchers and students to run AI/ML tasks, data analysis and education, not rendering 3D scenes. Because the computing power provided are free, the usage limits, idle timeouts and speed of the rendering may varies time by time. [Colab Pro and Colab Pro+](https://colab.research.google.com/signup) are available for those who wanted to have more powerful GPU and longer runtimes for rendering. See the [FAQ](https://research.google.com/colaboratory/faq.html) for more info. In some cases, it might be faster to use an online Blender renderfarm.\n",
        "\n",
        "## License\n",
        "```\n",
        "MIT License\n",
        "\n",
        "Copyright (c) 2020-2022 ynshung\n",
        "\n",
        "Permission is hereby granted, free of charge, to any person obtaining a copy\n",
        "of this software and associated documentation files (the \"Software\"), to deal\n",
        "in the Software without restriction, including without limitation the rights\n",
        "to use, copy, modify, merge, publish, distribute, sublicense, and/or sell\n",
        "copies of the Software, and to permit persons to whom the Software is\n",
        "furnished to do so, subject to the following conditions:\n",
        "\n",
        "The above copyright notice and this permission notice shall be included in all\n",
        "copies or substantial portions of the Software.\n",
        "\n",
        "THE SOFTWARE IS PROVIDED \"AS IS\", WITHOUT WARRANTY OF ANY KIND, EXPRESS OR\n",
        "IMPLIED, INCLUDING BUT NOT LIMITED TO THE WARRANTIES OF MERCHANTABILITY,\n",
        "FITNESS FOR A PARTICULAR PURPOSE AND NONINFRINGEMENT. IN NO EVENT SHALL THE\n",
        "AUTHORS OR COPYRIGHT HOLDERS BE LIABLE FOR ANY CLAIM, DAMAGES OR OTHER\n",
        "LIABILITY, WHETHER IN AN ACTION OF CONTRACT, TORT OR OTHERWISE, ARISING FROM,\n",
        "OUT OF OR IN CONNECTION WITH THE SOFTWARE OR THE USE OR OTHER DEALINGS IN THE\n",
        "SOFTWARE.\n",
        "```"
      ]
    }
  ],
  "metadata": {
    "accelerator": "GPU",
    "colab": {
      "name": "blender-render.ipynb",
      "provenance": [],
      "toc_visible": true,
      "include_colab_link": true
    },
    "kernelspec": {
      "display_name": "Python 3",
      "language": "python",
      "name": "python3"
    },
    "language_info": {
      "codemirror_mode": {
        "name": "ipython",
        "version": 3
      },
      "file_extension": ".py",
      "mimetype": "text/x-python",
      "name": "python",
      "nbconvert_exporter": "python",
      "pygments_lexer": "ipython3",
      "version": "3.7.4"
    }
  },
  "nbformat": 4,
  "nbformat_minor": 0
}